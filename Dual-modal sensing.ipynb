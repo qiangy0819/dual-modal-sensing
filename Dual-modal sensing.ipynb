{
 "cells": [
  {
   "cell_type": "code",
   "execution_count": null,
   "id": "46d54daa-68b2-4934-9ccd-f65bdacb0877",
   "metadata": {
    "tags": []
   },
   "outputs": [],
   "source": [
    "import matplotlib.pyplot as plt\n",
    "from scipy import signal\n",
    "from sklearn.decomposition import PCA\n",
    "from sklearn.preprocessing import StandardScaler\n",
    "from sklearn.cluster import KMeans\n",
    "import numpy as np\n",
    "from collections import defaultdict\n",
    "import seaborn as sns\n",
    "from numpy.fft import fft, ifft, fftfreq\n",
    "import scipy\n",
    "from scipy import interpolate\n",
    "import pandas as pd\n",
    "from FWHM import FWHM\n",
    "from scipy.signal import savgol_filter\n",
    "from scipy.signal import welch\n",
    "from scipy.integrate import simps\n",
    "import pickle\n",
    "import os, sys, json\n",
    "import gc\n",
    "from scipy.interpolate import interp1d\n",
    "from joblib import dump, load"
   ]
  },
  {
   "cell_type": "markdown",
   "id": "9313797c-d8a9-48c8-97bb-36842b2346e7",
   "metadata": {},
   "source": [
    "# Ephys loading"
   ]
  },
  {
   "cell_type": "code",
   "execution_count": null,
   "id": "6b218a24-5a22-48ee-b7bf-dccd56d60977",
   "metadata": {
    "tags": []
   },
   "outputs": [],
   "source": [
    "%run importrhdutilities.py"
   ]
  },
  {
   "cell_type": "code",
   "execution_count": null,
   "id": "d6202bcc-7e28-4c52-a121-16881b3d5731",
   "metadata": {
    "tags": []
   },
   "outputs": [],
   "source": [
    "filename = os.getcwd()+'PATH' \n",
    "result, data_present = load_file(filename)\n",
    "raw_data = result['amplifier_data']"
   ]
  },
  {
   "cell_type": "code",
   "execution_count": null,
   "id": "85726a98-e19d-4f09-ac05-2f89ea4f905c",
   "metadata": {
    "tags": []
   },
   "outputs": [],
   "source": [
    "stim = result['board_dig_in_data'][0]\n",
    "fs = 20000\n",
    "onsets = []\n",
    "for i in range(1,len(stim)):\n",
    "    if stim[i-1] == False and stim[i] == True:  \n",
    "        onsets.append(i)  \n",
    "onset_time = np.array(onsets)/fs"
   ]
  },
  {
   "cell_type": "markdown",
   "id": "2fe6e171-bcfa-483e-ae56-728c7ba2a659",
   "metadata": {
    "tags": []
   },
   "source": [
    "# DA data loading"
   ]
  },
  {
   "cell_type": "code",
   "execution_count": null,
   "id": "d50eba14-22ae-4ef9-bcbf-8c0bfa849cad",
   "metadata": {
    "tags": []
   },
   "outputs": [],
   "source": [
    "DA = pd.read_excel( os.getcwd() + 'PATH', engine='openpyxl')\n",
    "DA_data = DA['NAME']\n",
    "t_DA = DA['NAME']"
   ]
  },
  {
   "cell_type": "code",
   "execution_count": null,
   "id": "fed876b7-ee2a-47a7-8158-2c4f07eee8ad",
   "metadata": {
    "tags": []
   },
   "outputs": [],
   "source": [
    "x_non_nan = t_DA[~np.isnan(DA_data)]\n",
    "y_non_nan = DA_data[~np.isnan(DA_data)]\n",
    "f = interp1d(x_non_nan, y_non_nan, kind='linear', fill_value=\"extrapolate\")\n",
    "DA_data_interp = f(t_DA[~np.isnan(t_DA)])"
   ]
  },
  {
   "cell_type": "markdown",
   "id": "a06de940-62f4-4cf3-8f64-30ae47655671",
   "metadata": {
    "tags": []
   },
   "source": [
    "# Pin Mapping"
   ]
  },
  {
   "cell_type": "code",
   "execution_count": null,
   "id": "41e412c3-0aa5-4f3e-8203-88dc09b0cda0",
   "metadata": {
    "tags": []
   },
   "outputs": [],
   "source": [
    "# Mice mapping\n",
    "pin_map = {}\n",
    "pin_map[0] = [0,0]\n",
    "pin_map[1] = [4,0] \n",
    "pin_map[2] = [2,0]\n",
    "pin_map[3] = [6,0]\n",
    "pin_map[4] = [7,0]\n",
    "pin_map[5] = [8,0]\n",
    "pin_map[6] = [5,0]\n",
    "pin_map[7] = [3,0]\n",
    "pin_map[8] = [1,0]\n",
    "\n"
   ]
  },
  {
   "cell_type": "code",
   "execution_count": null,
   "id": "ea72f3eb-9a14-4d3b-b14f-11e14403bd7f",
   "metadata": {
    "tags": []
   },
   "outputs": [],
   "source": [
    "# Rat Mapping 1\n",
    "pin_map = {}\n",
    "pin_map[0] = [13,0]\n",
    "pin_map[1] = [11,0]\n",
    "pin_map[2] = [14,0]\n",
    "pin_map[3] = [12,0]\n",
    "pin_map[4] = [8,0]\n",
    "pin_map[5] = [10,0]\n",
    "pin_map[6] = [9,0]\n",
    "pin_map[7] = [7,0]\n",
    "pin_map[8] = [3,0]\n",
    "pin_map[9] = [6,0]\n",
    "pin_map[10] = [5,0]\n",
    "pin_map[11] = [4,0]\n",
    "pin_map[12] = [0,0]\n",
    "pin_map[13] = [2,0]\n",
    "pin_map[14] = [1,0]"
   ]
  },
  {
   "cell_type": "code",
   "execution_count": null,
   "id": "6453b010-6f98-46a0-a94c-9c164993078c",
   "metadata": {
    "tags": []
   },
   "outputs": [],
   "source": [
    "# Rat mapping 2\n",
    "pin_map = {}\n",
    "pin_map[0] = [8,0]\n",
    "pin_map[1] = [14,0]\n",
    "pin_map[2] = [9,0]\n",
    "pin_map[3] = [4,0]\n",
    "pin_map[4] = [13,0]\n",
    "pin_map[5] = [12,0]\n",
    "pin_map[6] = [11,0]\n",
    "pin_map[7] = [10,0]\n",
    "pin_map[8] = [6,0]\n",
    "pin_map[9] = [2,0]\n",
    "pin_map[10] = [1,0]\n",
    "pin_map[11] = [0,0]\n",
    "pin_map[12] = [3,0]\n",
    "pin_map[13] = [5,0]\n",
    "pin_map[14] = [7,0]\n",
    "\n"
   ]
  },
  {
   "cell_type": "markdown",
   "id": "2a73099f-6061-49dd-bf2f-477abc93fffc",
   "metadata": {
    "tags": []
   },
   "source": [
    "# Filtering"
   ]
  },
  {
   "cell_type": "code",
   "execution_count": null,
   "id": "f0bebc31-bb15-4343-8a2b-84381079db83",
   "metadata": {
    "tags": []
   },
   "outputs": [],
   "source": [
    "trim_start = TIME1\n",
    "trim_end = TIME2\n",
    "fs = 20000\n",
    "raw_data_copy = raw_data.copy()\n",
    "raw_data_cut = raw_data_copy[:,int(trim_start*fs):int(trim_end*fs)]"
   ]
  },
  {
   "cell_type": "code",
   "execution_count": null,
   "id": "f07c3abc-f47c-4b12-a202-8f51ebc45f33",
   "metadata": {
    "tags": []
   },
   "outputs": [],
   "source": [
    "order = 2\n",
    "low = 1\n",
    "high = 300\n",
    "fs = 20000\n",
    "filtered = []\n",
    "b,a = signal.butter(order, [low, high], 'bp', fs=fs)\n",
    "for row in raw_data_cut:\n",
    "  filtered.append(signal.lfilter(b, a, row))\n",
    "filtered = np.array(filtered)\n",
    "med = np.median(filtered,axis=0)\n",
    "filtered = filtered - med"
   ]
  },
  {
   "cell_type": "markdown",
   "id": "a7cce7ec-4eea-46aa-ab0a-9d5282d53e4e",
   "metadata": {},
   "source": [
    "# Data Trimming"
   ]
  },
  {
   "cell_type": "code",
   "execution_count": null,
   "id": "7feadb34-07a7-4175-b1af-cf7768f70366",
   "metadata": {
    "tags": []
   },
   "outputs": [],
   "source": [
    "data_to_process = filtered"
   ]
  },
  {
   "cell_type": "code",
   "execution_count": null,
   "id": "eeb7a978-47ac-4c4f-b954-f6a75de328fb",
   "metadata": {
    "tags": []
   },
   "outputs": [],
   "source": [
    "stride = 120\n",
    "for i in range(5):\n",
    "    pos = i*stride*fs + pos1 - 30*i\n",
    "    r = 500\n",
    "    for ch in range(ch_NO):\n",
    "        for n in range((stride+1)*10):\n",
    "            data_to_process[ch][(pos+2000*n):(r+pos+2000*n)] = 0\n",
    "#"
   ]
  },
  {
   "cell_type": "code",
   "execution_count": null,
   "id": "7b16f4cf-092f-4f75-b7a3-8984e0868c23",
   "metadata": {
    "tags": []
   },
   "outputs": [],
   "source": [
    "for ch in range(ch_NO):\n",
    "    for n in range(50):\n",
    "        filtered[ch][(pos1+2000*n):(r+pos1+2000*n)] = 0"
   ]
  },
  {
   "cell_type": "markdown",
   "id": "b005c6b1-a76b-4929-bd59-db71fbbf71f9",
   "metadata": {},
   "source": [
    "# Artifact removal"
   ]
  },
  {
   "cell_type": "code",
   "execution_count": null,
   "id": "16604c18-e07d-492c-ab04-44e51a052f3b",
   "metadata": {
    "tags": []
   },
   "outputs": [],
   "source": [
    "N = 5*20000\n",
    "T = 1/20000\n",
    "peak_to_cut = []\n",
    "yprobe = []\n",
    "CH_NO = 15\n",
    "data_to_process = filtered\n",
    "round = int(np.round((len(data_to_process[0])/fs-4)/2.5+1))\n",
    "for n in range(1999):\n",
    "  peak = np.arange(50*n+45,50*n+56) \n",
    "  peak_to_cut = np.concatenate((peak_to_cut, peak), axis=None)\n",
    "for ch in range(CH_NO):\n",
    "  yall = []\n",
    "  prev = []\n",
    "  y_sum = []\n",
    "  for n in range(round):\n",
    "    window1 = int(2.5*n*fs)\n",
    "    window2 = int((2.5*n+5)*fs)\n",
    "    yf = fft(data_to_process[ch][window1:window2])\n",
    "    xf = fftfreq(N, T)\n",
    "    xf_sym = np.concatenate((xf[N//2:N], xf[0:N//2]), axis=None)\n",
    "    yf_sym = np.concatenate((yf[N//2:N], yf[0:N//2]), axis=None)\n",
    "    xf_cut = np.delete(xf_sym,peak_to_cut.astype(int))\n",
    "    yf_cut = np.delete(yf_sym,peak_to_cut.astype(int))\n",
    "    pp = interpolate.PchipInterpolator(xf_cut, yf_cut, axis=0, extrapolate=None)\n",
    "    yn = pp(xf_sym)\n",
    "    xb = np.concatenate((xf_sym[N//2:N], xf_sym[0:N//2]), axis=None)\n",
    "    yb = np.concatenate((yn[N//2:N], yn[0:N//2]), axis=None) \n",
    "    yi = ifft(yb)\n",
    "    yall = np.concatenate((yall, yi[int(1.5*fs):4*fs]), axis=None)\n",
    "  yprobe.append(yall)\n",
    "yprobe = np.real(yprobe)"
   ]
  },
  {
   "cell_type": "markdown",
   "id": "332bf046-ef6b-4b65-b6b0-a70eb1882d0f",
   "metadata": {
    "tags": []
   },
   "source": [
    "# Spike Sorting"
   ]
  },
  {
   "cell_type": "code",
   "execution_count": null,
   "id": "52214fa9-8664-4282-8ca8-cd9d44ea1350",
   "metadata": {
    "tags": []
   },
   "outputs": [],
   "source": [
    "import spikeinterface.full as si\n",
    "import probeinterface as pi\n",
    "from probeinterface.plotting import plot_probe\n",
    "from probeinterface import Probe\n",
    "import spikeinterface.preprocessing as spre\n",
    "import mountainsort5 as ms5\n",
    "from mountainsort5.util import create_cached_recording\n",
    "from tempfile import TemporaryDirectory\n",
    "from spikeinterface.core import concatenate_recordings\n",
    "from spikeinterface import extractors as se"
   ]
  },
  {
   "cell_type": "code",
   "execution_count": null,
   "id": "62516f33-bf09-4ac1-9911-3ba8d6d11c5a",
   "metadata": {
    "tags": []
   },
   "outputs": [],
   "source": [
    "file = os.getcwd()+'PROBEMAP'\n",
    "mapping = np.array(pd.read_excel(file))\n",
    "\n",
    "probe = Probe(ndim=2, si_units='um')\n",
    "probe.set_contacts(positions=mapping, shapes='square', shape_params={'width': 10})"
   ]
  },
  {
   "cell_type": "code",
   "execution_count": null,
   "id": "47300c20-0f49-4304-a463-026b545bac62",
   "metadata": {
    "tags": []
   },
   "outputs": [],
   "source": [
    "channel_indices = np.arange(ch_NO)\n",
    "probe.set_device_channel_indices(channel_indices)\n",
    "print(probe.device_channel_indices)"
   ]
  },
  {
   "cell_type": "code",
   "execution_count": null,
   "id": "4f5eb3b8-cf70-40b9-8db0-00dd784bf585",
   "metadata": {
    "tags": []
   },
   "outputs": [],
   "source": [
    "raw_rec = clean_recording.set_probe(probe)"
   ]
  },
  {
   "cell_type": "code",
   "execution_count": null,
   "id": "afe01d9b-242e-43d9-a565-f7da18ac2ad5",
   "metadata": {
    "tags": []
   },
   "outputs": [],
   "source": [
    "sub_recording = raw_rec\n",
    "recording_preprocessed = spre.whiten(sub_recording, dtype=np.float32)\n",
    "sorting = ms5.sorting_scheme2(\n",
    "recording_preprocessed,\n",
    "sorting_parameters=ms5.Scheme2SortingParameters(\n",
    "        phase1_detect_channel_radius=150,\n",
    "        detect_channel_radius= 50,\n",
    "        training_duration_sec = 60,\n",
    "        phase1_npca_per_channel = 10,\n",
    "        phase1_detect_threshold = 5.5,\n",
    "        detect_threshold = 5.5\n",
    "    ),\n",
    "    )"
   ]
  },
  {
   "cell_type": "code",
   "execution_count": null,
   "id": "2426eaa3-e63b-4989-945d-990621a63d22",
   "metadata": {
    "tags": []
   },
   "outputs": [],
   "source": [
    "sorting_data = filtered\n",
    "ch_to_unit = defaultdict(dict)\n",
    "for unit_id in sorting.get_unit_ids():\n",
    "    peaks = sorting.get_unit_spike_train(unit_id)\n",
    "    v = {}\n",
    "    for channel in range(ch_NO):\n",
    "        temp = []\n",
    "        for idx, peak in enumerate(peaks):\n",
    "            if idx < 500:\n",
    "                temp.append(sorting_data[channel][peak])\n",
    "        v[channel] = np.mean(temp)\n",
    "    ch_to_unit[unit_id] = min(v, key=lambda k: v[k])\n",
    "ch_to_unit"
   ]
  },
  {
   "cell_type": "code",
   "execution_count": null,
   "id": "84838945-477b-49ff-9cef-5d71e6be5218",
   "metadata": {
    "tags": []
   },
   "outputs": [],
   "source": [
    "spike_time_pre = {}\n",
    "mean_waveform_pre = {}\n",
    "for unit_id in sorting.get_unit_ids():\n",
    "  unit = 0\n",
    "  channel = ch_to_unit[unit_id]\n",
    "  while (channel,unit) in spike_time_pre.keys():\n",
    "    unit = unit + 1\n",
    "  spike_time_pre[channel, unit] = sorting.get_unit_spike_train(unit_id)\n",
    "  mean_waveform_pre[channel, unit] = waveform[channel, unit_id]"
   ]
  },
  {
   "cell_type": "markdown",
   "id": "e1650489-29c2-4427-b37c-c074c4e7da15",
   "metadata": {
    "tags": []
   },
   "source": [
    "# Curation"
   ]
  },
  {
   "cell_type": "code",
   "execution_count": null,
   "id": "c84b54f4-dd47-4f53-86b3-27bfecb9d49a",
   "metadata": {
    "tags": []
   },
   "outputs": [],
   "source": [
    "pca = PCA(n_components=3)\n",
    "components = {}\n",
    "aligned_ch = mean_waveform_pre\n",
    "fig, axs = plt.subplots(ch_NO, 1, sharex = 'col', sharey = 'row')\n",
    "\n",
    "for channel, unit_id in spike_time_pre.keys():\n",
    "  x = channel#pin_map[channel][0]\n",
    "  if len(aligned_ch[channel, unit_id]) < 3:\n",
    "    axs[x].set_ylim([-20, 20])\n",
    "    axs[x].tick_params(axis='both', which='major', labelsize=10)\n",
    "    continue\n",
    "  aligned_std = StandardScaler().fit_transform(aligned_ch[channel, unit_id])\n",
    "  principal_components = pca.fit_transform(aligned_std)\n",
    "  components[channel,unit_id] = principal_components\n",
    "  axs[x].scatter(components[channel,unit_id][:,0], components[channel,unit_id][:,1], s=3, c='black')\n",
    "  axs[x].set_xlim([-40, 40])\n",
    "  axs[x].set_ylim([-40, 40])\n",
    "  axs[x].tick_params(axis='both', which='major', labelsize=10)\n",
    "  fig.set_figheight(50)\n",
    "  fig.set_figwidth(5)"
   ]
  },
  {
   "cell_type": "code",
   "execution_count": null,
   "id": "4ebdb24b-471f-482d-b7ec-45e1bb6b8a4e",
   "metadata": {
    "tags": []
   },
   "outputs": [],
   "source": [
    "# spike curation\n",
    "color={}\n",
    "color[0] = 'steelblue'\n",
    "color[1] = 'orange'\n",
    "color[2] = 'seagreen'\n",
    "color[3] = 'red'\n",
    "color[4] = 'purple'\n",
    "color[5] = 'gray'\n",
    "color[6] = 'black'\n",
    "color[7] = 'pink'\n",
    "fs = 20000\n",
    "\n",
    "channel = ch_NO\n",
    "unit_id = 0\n",
    "k =1\n",
    "wave_cluster = {}\n",
    "spk_time = spike_time_pre[channel, unit_id]\n",
    "spk_wave = mean_waveform_pre[channel, unit_id]\n",
    "timing = {}\n",
    "comp = components[channel, unit_id]\n",
    "compo = {}\n",
    "kmeans = KMeans(n_clusters=k, init='k-means++', max_iter=500, n_init=10, random_state=0).fit(comp)\n",
    "fig = plt.figure(figsize = (10, 7))\n",
    "for cluster in range(k):\n",
    "  clust = np.where(kmeans.labels_ == cluster)[0]\n",
    "  timing[cluster] = spk_time[clust]\n",
    "  compo[cluster] = comp[clust]\n",
    "  plt.scatter(comp[clust,0],comp[clust,1], s=30, c=colors[cluster], alpha = 1)\n",
    "  plt.xlim([-50, 50])\n",
    "  plt.ylim([-50, 50])\n",
    "\n",
    "single_unit_time = defaultdict(list)\n",
    "single_unit_waveform = defaultdict(list)\n",
    "\n",
    "fig = plt.figure(figsize = (10, 7))\n",
    "fig, axs = plt.subplots(1, k+1, sharex = 'col', sharey = 'row')\n",
    "for cluster in range(k):\n",
    "    t = np.linspace(0,4,80)\n",
    "    clust = np.where(kmeans.labels_ == cluster)[0]\n",
    "    for index in clust:\n",
    "          single_unit_time[channel,unit_id,cluster].append(spk_time[index])\n",
    "          single_unit_waveform[channel,unit_id,cluster].append(spk_wave[index])\n",
    "          axs[cluster].plot(t, spk_wave[index],color=colors[cluster],linewidth=6)\n",
    "    mean_spike = np.mean(single_unit_waveform[channel,unit_id,cluster],axis = 0)\n",
    "    half_max = (max(mean_spike) + min(mean_spike))/2\n",
    "    axs[cluster].plot(t, mean_spike,color = 'white',linewidth=12)\n",
    "    axs[cluster].axhline(half_max ,color = 'red',linewidth=12)\n",
    "    axs[cluster].tick_params(axis='both', which='both', labelbottom=True, labelleft=True, labelsize = 50)\n",
    "\n",
    "    fig.set_figheight(20)\n",
    "    fig.set_figwidth(50)\n",
    "plt.ylim(-200,100)\n",
    "plt.axis('off')\n",
    "\n",
    "for cluster in range(k):\n",
    "    noise = []\n",
    "    SNR = []\n",
    "    peak = []\n",
    "    mean_waveform = np.mean(single_unit_waveform[channel,unit_id,cluster],axis = 0)\n",
    "    average = signal.resample(mean_waveform,5*len(t))\n",
    "    p = np.where(average == max(average))[0][0]\n",
    "    v = np.where(average == min(average))[0][0]\n",
    "    firing_rate = len(single_unit_time[channel,unit_id,cluster])/((len(input[0])/fs))\n",
    "    if not FWHM(average):\n",
    "        fwhm = 0\n",
    "    else:\n",
    "        fwhm = FWHM(average)\n",
    "    pvt = np.abs(p-v)\n",
    "    isi_single = np.diff(single_unit_time[channel,unit_id,cluster])\n",
    "    isi_violation = np.abs((len(np.where(isi_single<2*fs/1000)[0])))/(len(single_unit_time[channel,unit_id,cluster]))\n",
    "    isi_cluster = np.diff(single_unit_time[channel,unit_id,cluster])\n",
    "    for stamp in single_unit_time[channel,unit_id,cluster]:\n",
    "      peak_select = int(stamp)\n",
    "      noise_select = input[channel][peak_select-36:peak_select-28]\n",
    "      peak_to_peak = max(mean_waveform) - min(mean_waveform)\n",
    "      rms_noise = np.sqrt(np.mean(noise_select**2))\n",
    "      SNR.append(peak_to_peak/rms_noise) \n",
    "      peak.append(peak_to_peak)\n",
    "      noise.append(rms_noise)\n",
    "    noise_med = np.median(noise)\n",
    "    SNR_med = np.median(SNR)\n",
    "    peak_med = np.median(peak)\n",
    "    plt.show()\n",
    "    print('')\n",
    "    print(\"Channel:%d |\"%(channel),\"cluster:%d |\"%(cluster), \"SNR:%f |\"%(SNR_med), \"peak_to_peak signal:%f |\"%(peak_med),\"rms_noise:%f |\"%(noise_med),'firing rate:%fHz '%(firing_rate))\n",
    "\n",
    "    print('FWHM:%fms |'%(fwhm/(5*fs/1000)), 'pvt:%fms |'%(pvt/(5*fs/1000)), 'ISI violation:%f'%(isi_violation*100)+\"%\")\n",
    "    \n",
    "    print('')\n",
    "\n",
    "    if fwhm/(5*fs/1000) < 0.15 or fwhm/(5*fs/1000) > 0.75:\n",
    "      print(\"fwhm did not pass!\")\n",
    "    if pvt/(5*fs/1000) < 0.15 or pvt/(5*fs/1000) > 0.85:\n",
    "      print(\"peak-to-valley did not pass!\")\n",
    "    if isi_violation > 0.015:\n",
    "      print(\"ISI violation over 1%!\")\n",
    "    if firing_rate < 0.1:\n",
    "      print('firing rate smaller than 0.1 Hz!')\n",
    "    if SNR_med < 4:\n",
    "      print(\"low spike SNR!\")  \n",
    "    print('*******************************')\n",
    "\n",
    "    print('')\n"
   ]
  },
  {
   "cell_type": "code",
   "execution_count": null,
   "id": "09448205-dc12-4857-8132-a9367e047cb1",
   "metadata": {
    "tags": []
   },
   "outputs": [],
   "source": [
    "cluster =0\n",
    "single_unit_time = defaultdict(list)\n",
    "single_unit_waveform = defaultdict(list)\n",
    "clust = np.where(kmeans.labels_ == cluster)[0]\n",
    "plt.figure(figsize = (5,7))\n",
    "single_unit_time[channel,cluster].append(spk_time[index])\n",
    "single_unit_waveform[channel,cluster].append(spk_wave[index])\n",
    "plt.plot(t, spk_wave[index], color=colors[6],linewidth=1)\n",
    "plt.plot(t, np.mean(single_unit_waveform[channel,cluster],axis = 0),color = 'white',linewidth=5)\n",
    "plt.xlim(0.5,3.5)\n",
    "plt.ylim(-200,150)\n",
    "plt.axis('off')"
   ]
  },
  {
   "cell_type": "code",
   "execution_count": null,
   "id": "208dd987-682c-4d5a-9efe-a0ba99833459",
   "metadata": {
    "tags": []
   },
   "outputs": [],
   "source": [
    "# Initialize once only for one dataset \n",
    "mean_waveform_all={}\n",
    "spike_time_all = {}"
   ]
  },
  {
   "cell_type": "code",
   "execution_count": null,
   "id": "af144a49-399e-4790-8cc6-44afdf4c7b35",
   "metadata": {
    "tags": []
   },
   "outputs": [],
   "source": [
    "# Record curated spikes\n",
    "unit = 0\n",
    "while (channel,unit) in spike_time_all.keys():\n",
    "    unit = unit + 1\n",
    "spike_time_all[channel, unit] = single_unit_time[channel, cluster]\n",
    "mean_waveform_all[channel, unit] = np.mean(single_unit_waveform[channel, cluster],axis = 0)\n",
    "plt.plot(mean_waveform_all[channel, unit], linewidth =15)\n",
    "plt.axis('off')"
   ]
  },
  {
   "cell_type": "code",
   "execution_count": null,
   "id": "dd3f16d6-990f-4506-a196-aae5764c28af",
   "metadata": {
    "tags": []
   },
   "outputs": [],
   "source": [
    "#show it in table\n",
    "#input = filtered\n",
    "pvt = {}\n",
    "firing_rate = {}\n",
    "fwhm = {}\n",
    "isi_violation = {}\n",
    "chan = []\n",
    "clusterid = []\n",
    "noise_med = {}\n",
    "peak_med = {}\n",
    "SNR_med = {}\n",
    "L_ratio = {}\n",
    "sh = []\n",
    "el= []\n",
    "for ch, cluster in spike_time_all.keys():\n",
    "    SNR = []\n",
    "    peak = []\n",
    "    noise = []\n",
    "    mean_waveform = mean_waveform_all[ch, cluster]\n",
    "    upsampled_mean = signal.resample(mean_waveform,5*80)\n",
    "    p = np.where(upsampled_mean == max(upsampled_mean))[0][0]\n",
    "    v = np.where(upsampled_mean == min(upsampled_mean))[0][0]\n",
    "    firing_rate[ch,cluster] = len(spike_time_all[ch,cluster])/((len(input[0])/fs))\n",
    "    pvt[ch,cluster] = np.abs(p-v)/(5*fs/1000)\n",
    "    isi_single = np.diff(spike_time_all[ch, cluster])\n",
    "    isi_violation[ch, cluster] = len(np.where(isi_single<(2*fs/1000))[0])/(len(spike_time_all[ch,cluster])+1)\n",
    "    for stamp in spike_time_all[ch,cluster]:\n",
    "        peak_select = int(stamp)\n",
    "        noise_select = input[ch][peak_select-36:peak_select-28]\n",
    "        peak_to_peak = max(mean_waveform) - min(mean_waveform)\n",
    "        rms_noise = np.sqrt(np.mean(noise_select**2))\n",
    "        SNR.append(peak_to_peak/rms_noise)\n",
    "        peak.append(peak_to_peak)\n",
    "        noise.append(rms_noise)\n",
    "    noise_med[ch, cluster] = np.median(noise)\n",
    "    SNR_med[ch,cluster] = np.median(SNR)\n",
    "    peak_med[ch,cluster] = np.median(peak)\n",
    "    if not FWHM(upsampled_mean):\n",
    "        fwhm[ch,cluster] = 'NA'\n",
    "    else:\n",
    "        fwhm[ch,cluster] = FWHM(upsampled_mean)/100\n",
    "df = pd.DataFrame()\n",
    "for key in spike_time_all.keys():\n",
    "    chan.append(key[0])\n",
    "    clusterid.append(key[1])\n",
    "\n",
    "\n",
    "df['channel'] = chan\n",
    "df['cluster'] = clusterid \n",
    "#df['firing rate'] = firing_rate.values()\n",
    "df['FWHM'] = fwhm.values()\n",
    "df['PVT'] = pvt.values()\n",
    "df['ISI violation'] = isi_violation.values()\n",
    "df['ISI violation'] = df['ISI violation'].apply(lambda x: f'{x*100:.2f}%')\n",
    "df['SNR'] = SNR_med.values()\n",
    "df['signal'] = peak_med.values()\n",
    "df = df.round(2)\n",
    "df"
   ]
  },
  {
   "cell_type": "code",
   "execution_count": null,
   "id": "e1677028-215f-4db1-990b-649d3c2bac9c",
   "metadata": {
    "tags": []
   },
   "outputs": [],
   "source": [
    "#spike raster\n",
    "injection_time = 129\n",
    "time_fscv = injection_time-15\n",
    "time_ephys = time_fscv + onset_time[0] - 1.5\n",
    "fs = 20000\n",
    "L = 500\n",
    "plt.figure(figsize=(40,5))\n",
    "unit_no = len(spike_time_all)\n",
    "pos = 0\n",
    "color1 = [72/255,148/255,162/255]\n",
    "color2= [243/255,173/255,17/255]\n",
    "for ch in [1,4,5,6,7,2,0,14,8,13,3,12,9,10,11]:\n",
    "    for clust in range(2):\n",
    "        if (ch,clust) in spike_time_all.keys():\n",
    "            for timestamp in spike_time_all[ch,clust]:\n",
    "                ymin=(len(spike_time_all)-pos)*2/unit_no/2\n",
    "                ymax=((len(spike_time_all)-pos)*2+1)/unit_no/2\n",
    "                plt.axvline(timestamp, ymin-0.05, ymax-0.05, color = color1 ,linewidth = 3)\n",
    "                #print([ymin,ymax])\n",
    "            pos = pos + 1\n",
    "plt.axis('off')\n",
    "plt.xlim(int((time_ephys-trim_start)*fs),int((time_ephys-trim_start+200)*fs))\n",
    "plt.show()"
   ]
  },
  {
   "cell_type": "markdown",
   "id": "392edd6e-f381-4cf9-9a91-5cef237bca0e",
   "metadata": {},
   "source": [
    "# LFP analysis"
   ]
  },
  {
   "cell_type": "code",
   "execution_count": null,
   "id": "8983eaed-fce7-483f-bb5b-3a5d7abc9f13",
   "metadata": {
    "tags": []
   },
   "outputs": [],
   "source": [
    "injection_time = 55\n",
    "time_fscv = injection_time - onset_time[0] - 15\n",
    "duration =300\n",
    "time_ephys = time_fscv + onset_time[0] - 1.5"
   ]
  },
  {
   "cell_type": "code",
   "execution_count": null,
   "id": "6d2a4b0e-bb8a-4d37-918a-1283d3cd209a",
   "metadata": {
    "tags": []
   },
   "outputs": [],
   "source": [
    "#spectrogram\n",
    "t0 = time_ephys\n",
    "L = int((round-1)*2.5+5) - 5\n",
    "first_section = yprobe\n",
    "data_to_plot = yprobe\n",
    "background_start = 20\n",
    "background_end = 30\n",
    "nperseg = 4000\n",
    "noverlap = 3500\n",
    "vmin = 0\n",
    "vmax = 5\n",
    "\n",
    "chs = [0,8,2,1,6,3,4,5] \n",
    "row = len(chs)\n",
    "fig, axs = plt.subplots(row, col, sharex='col', figsize=(200, 45))  # Removed sharey='row' as we'll have different y-axes\n",
    "for x, ch in enumerate(chs):\n",
    "    _, _, Sxx_background = signal.spectrogram(first_section[ch][int(background_start*fs):int(background_end*fs)], fs=fs, nperseg=nperseg, noverlap=noverlap, mode='psd')\n",
    "    avg_background = np.mean(Sxx_background, axis=1, keepdims=True)\n",
    "    f, t, Sxx = signal.spectrogram(np.real(data_to_plot[ch][int(t0*fs):int((t0+duration)*fs)]), fs = 20000, nperseg=nperseg, noverlap=noverlap, mode='psd')\n",
    "    Sxx_corrected = Sxx - avg_background\n",
    "    cax = axs[x].imshow(Sxx_corrected, aspect='auto', origin='lower', extent=[min(t), max(t), min(f), max(f)], cmap=\"plasma\", interpolation='bilinear', vmin=vmin, vmax=vmax)\n",
    "    axs[x].axvline(x=injection_time - time_fscv, color='white', linestyle='--', linewidth = 3)\n",
    "    #axs[x].set_title('channel%d' % (ch), size=40)\n",
    "    axs[x].set_ylim([1, 150])\n",
    "    #axs[x].set_xlim([time_ephys-trim_start ,time_ephys+duration-trim_start])D\n",
    "    cbar = fig.colorbar(cax,ax=axs[x])\n",
    "    cbar.ax.tick_params(labelsize=30)\n",
    "    axs[x].tick_params(axis='both', which='major', labelbottom=True, labelleft=True, labelsize=30)\n",
    "    \n",
    "# Set the figure size\n",
    "fig.set_size_inches(25, 20)\n",
    "plt.tight_layout()\n",
    "plt.show()\n"
   ]
  },
  {
   "cell_type": "markdown",
   "id": "7e7715b4-1dfa-4fc2-817b-b1da4e2d1617",
   "metadata": {},
   "source": [
    "# Power calculation"
   ]
  },
  {
   "cell_type": "code",
   "execution_count": null,
   "id": "36c848ab-49cc-405a-8c60-39c3aa5ad910",
   "metadata": {
    "tags": []
   },
   "outputs": [],
   "source": [
    "#load DA data\n",
    "DA = pd.read_excel( os.getcwd() + 'PATH', engine='openpyxl')\n",
    "DA_data = DA['NAME']\n",
    "t_DA = DA['NAME']\n",
    "\n",
    "x_non_nan = t_DA[~np.isnan(DA_data)]\n",
    "y_non_nan = DA_data[~np.isnan(DA_data)]\n",
    "f = interp1d(x_non_nan, y_non_nan, kind='linear', fill_value=\"extrapolate\")\n",
    "DA_data_interp = f(t_DA[~np.isnan(t_DA)])"
   ]
  },
  {
   "cell_type": "code",
   "execution_count": null,
   "id": "2e7a5d34-9d8f-452a-856d-c144b9333320",
   "metadata": {
    "tags": []
   },
   "outputs": [],
   "source": [
    "window_size = 30\n",
    "f_DA = 10\n",
    "time_fscv = 462\n",
    "end_fscv = 712\n",
    "length = end_fscv - time_fscv\n",
    "time_ephys = time_fscv + onset_time[0] - 1.5\n",
    "window = np.ones(int(window_size))/float(window_size)\n",
    "smoothed_data = np.convolve(DA_data_interp, window, 'same')\n",
    "plt.figure(figsize=(6,4))\n",
    "plt.plot(t_DA, smoothed_data, linewidth = 5, color = 'seagreen')\n",
    "plt.xlim(time_fscv,end_fscv)\n",
    "plt.ylim(0,80)\n",
    "plt.tick_params(axis='both', which='major', labelsize=10)\n",
    "plt.gca().spines['right'].set_visible(False)\n",
    "plt.gca().spines['top'].set_visible(False)\n",
    "plt.axis('off')"
   ]
  },
  {
   "cell_type": "code",
   "execution_count": null,
   "id": "df876655-4697-484c-b9ac-b6f9a018f6f1",
   "metadata": {
    "tags": []
   },
   "outputs": [],
   "source": [
    "# filter data in bands\n",
    "order = 2\n",
    "low =60\n",
    "high =100\n",
    "\n",
    "fs = 20000\n",
    "filtered = []\n",
    "b,a = signal.butter(order, [low, high], 'bp', fs=fs)\n",
    "for row in raw_data_cut:\n",
    "  filtered.append(signal.lfilter(b, a, row))\n",
    "filtered = np.array(filtered)\n",
    "med = np.median(filtered,axis=0)\n",
    "filtered = filtered - med\n",
    "\n",
    "N = 5*20000\n",
    "T = 1/20000\n",
    "peak_to_cut = []\n",
    "yprobe = []\n",
    "CH_NO = 15\n",
    "data_to_process = filtered\n",
    "round = int(np.round((len(data_to_process[0])/fs-4)/2.5+1))\n",
    "for n in range(1999):\n",
    "  peak = np.arange(50*n+45,50*n+56) \n",
    "  peak_to_cut = np.concatenate((peak_to_cut, peak), axis=None)\n",
    "for ch in range(CH_NO):\n",
    "  yall = []\n",
    "  prev = []\n",
    "  y_sum = []\n",
    "  for n in range(round):\n",
    "    window1 = int(2.5*n*fs)\n",
    "    window2 = int((2.5*n+5)*fs)\n",
    "    yf = fft(data_to_process[ch][window1:window2])\n",
    "    xf = fftfreq(N, T)\n",
    "    xf_sym = np.concatenate((xf[N//2:N], xf[0:N//2]), axis=None)\n",
    "    yf_sym = np.concatenate((yf[N//2:N], yf[0:N//2]), axis=None)\n",
    "    xf_cut = np.delete(xf_sym,peak_to_cut.astype(int))\n",
    "    yf_cut = np.delete(yf_sym,peak_to_cut.astype(int))\n",
    "    pp = interpolate.PchipInterpolator(xf_cut, yf_cut, axis=0, extrapolate=None)\n",
    "    yn = pp(xf_sym)\n",
    "    xb = np.concatenate((xf_sym[N//2:N], xf_sym[0:N//2]), axis=None)\n",
    "    yb = np.concatenate((yn[N//2:N], yn[0:N//2]), axis=None) \n",
    "    yi = ifft(yb)\n",
    "    yall = np.concatenate((yall, yi[int(1.5*fs):4*fs]), axis=None)\n",
    "  yprobe.append(yall)\n",
    "yprobe = np.real(yprobe)\n",
    "round"
   ]
  },
  {
   "cell_type": "code",
   "execution_count": null,
   "id": "1b7771a6-8096-4111-8681-07c3e79c9414",
   "metadata": {
    "tags": []
   },
   "outputs": [],
   "source": [
    "# calculate power\n",
    "delay = onset_time[0]\n",
    "time_ephys = time_fscv + onset_time[0] - 1.5 - delay\n",
    "start_point = int((time_ephys - trim_start)*fs)\n",
    "step = 0.1\n",
    "fs = 20000\n",
    "time = np.linspace(0,length,int(length/step))\n",
    "delta_power = defaultdict(list)\n",
    "for idx, ch in enumerate([1, 4, 5, 6, 7, 2, 0, 14, 8, 13, 3, 9, 12, 10, 11]):\n",
    "    delta_power[ch] = []\n",
    "    for n in range(len(time)):\n",
    "        filtered_signal = yprobe[ch][int(start_point + n*step*fs):int(start_point + (n+1)*step*fs)]\n",
    "        signal_power = np.mean(np.square(filtered_signal))\n",
    "        if signal_power <10000:\n",
    "            delta_power[ch].append(signal_power)\n",
    "        else:\n",
    "            delta_power[ch].append(np.nan)\n",
    "for idx, ch in enumerate([1, 4, 5, 6, 7, 2, 0, 14, 8, 13, 3, 9, 12, 10, 11]):\n",
    "    delta_power[ch] = np.array(delta_power[ch])       \n",
    "    x_non_nan = time[~np.isnan(delta_power[ch])]\n",
    "    y_non_nan = delta_power[ch][~np.isnan(delta_power[ch])]\n",
    "    f = interp1d(x_non_nan, y_non_nan, kind='linear', fill_value=\"extrapolate\")\n",
    "    delta_power[ch] = f(time)\n",
    "power_smooth = {}\n",
    "window_size = 30\n",
    "for idx, ch in enumerate([1, 4, 5, 6, 7, 2, 0, 14, 8, 13, 3, 9, 12, 10, 11]):\n",
    "    delta_power[ch] = np.array(delta_power[ch])\n",
    "    window = np.ones(int(window_size))/float(window_size)\n",
    "    power_smooth[ch] =  np.convolve(delta_power[ch], window, 'same')\n",
    "    \n",
    "ch = 11\n",
    "\n",
    "plt.figure(figsize=(5,2))\n",
    "plt.plot(time, power_smooth[ch],linewidth = 3, color = 'cadetblue')\n",
    "plt.gca().spines['right'].set_visible(False)\n",
    "plt.gca().spines['top'].set_visible(False)\n",
    "plt.tick_params(axis='both', which='major', labelbottom=True, labelleft=True, labelsize=12)"
   ]
  },
  {
   "cell_type": "code",
   "execution_count": null,
   "id": "03427df2-3503-4aa5-a6f4-87c71d2c2ef2",
   "metadata": {
    "tags": []
   },
   "outputs": [],
   "source": [
    "#calculate correlation\n",
    "corr_ch = []\n",
    "lag_max_corr = {}\n",
    "corr_ch_shift = []\n",
    "corr_normalized = {}\n",
    "for ch in [1, 4, 5, 6, 7, 2, 0, 14, 8, 13, 3, 9, 12, 10, 11]:\n",
    "    LFP =  power_smooth[ch]\n",
    "    lags = np.arange(-int(len(DA_cut))+1, int(len(DA_cut)))\n",
    "    corr = np.correlate(DA_cut - np.mean(DA_cut), LFP - np.mean(LFP), mode='full')\n",
    "    denom = np.sqrt(np.sum((DA_cut - np.mean(DA_cut)) ** 2) * np.sum((LFP - np.mean(LFP)) ** 2))\n",
    "    corr_normalized[ch] = corr / denom\n",
    "    lag_max_corr[ch] = lags[np.argmax(corr_normalized[ch])]\n",
    "\n",
    "    plt.figure(figsize=(10, 2))\n",
    "    plt.plot(lags, corr_normalized[ch], label='Cross-Correlation')\n",
    "    plt.axvline(lag_max_corr[ch], color='red', linestyle='--', label=f'Max Correlation at lag {lag_max_corr[ch]}')\n",
    "    plt.title('channel%d'%(ch))\n",
    "    plt.xlabel('Lags of bins (100ms)')\n",
    "    plt.ylabel('Correlation Coefficient')\n",
    "    plt.legend()\n",
    "\n",
    "    print(max(corr_normalized[ch]))\n",
    "    corr_ch.append(corr_normalized[ch][lags == 2])\n",
    "    corr_ch_shift.append(corr_normalized[ch][lags == lag_max_corr[ch]])\n",
    "    plt.show()\n",
    "    \n",
    "ch_str = ['1', '4', '5', '6', '7', '2', '0', '14', '8', '13', '3', '9', '12', '10', '11']\n",
    "plt.figure(figsize = [10,1])\n",
    "plt.plot(ch_str, corr_ch, linewidth = '5', color = 'purple')\n",
    "plt.xlabel('Channel No (from bottom to tip)')\n",
    "plt.ylabel('Correlation Coefficient')\n",
    "print(\"NAc:%f\"%(max(corr_ch[6:16])))\n",
    "print(\"Ctx:%f\"%(max(corr_ch[0:6])))\n",
    "\n",
    "\n",
    "cov_ch = []\n",
    "for ch in [1, 4, 5, 6, 7, 2, 0, 14, 8, 13, 3, 9, 12, 10, 11]:\n",
    "    LFP =  power_smooth[ch]\n",
    "    cov_matrix = np.cov(DA_cut, LFP)\n",
    "    cov_ch.append(cov_matrix[0, 1])\n",
    "plt.figure(figsize = [10,2])\n",
    "plt.plot(ch_str, cov_ch, linewidth = '5', color = 'purple')\n",
    "plt.xlabel('Channel No (from bottom to tip)')\n",
    "plt.ylabel('Correlation Coefficient')"
   ]
  },
  {
   "cell_type": "markdown",
   "id": "ded3774a-0488-4f10-967a-847a0caa27bd",
   "metadata": {},
   "source": [
    "# Plotting PSD"
   ]
  },
  {
   "cell_type": "code",
   "execution_count": null,
   "id": "1124e04f-040c-4e52-acb0-a125dda3a1f6",
   "metadata": {
    "tags": []
   },
   "outputs": [],
   "source": [
    "yprobe = np.real(yprobe)\n",
    "fs=20000\n",
    "fig, axs = plt.subplots()\n",
    "\n",
    "f, Pxx_den = signal.welch(yprobe[ch][16*fs:19*fs],fs, nperseg = 4000)\n",
    "Pxx_smooth = signal.savgol_filter(Pxx_den, 3, 1)\n",
    "f2, Pxx_den2 = signal.welch(yprobe[ch][int(28*fs):int(31*fs)],fs, nperseg = 4000)\n",
    "Pxx_smooth2 = signal.savgol_filter(Pxx_den2, 3, 1)\n",
    "Pxx_smooth = signal.savgol_filter(Pxx_den, 3, 1)\n",
    "axs.plot((f), 10*np.log10(Pxx_smooth), c='black', linewidth=4)\n",
    "axs.plot((f), 10*np.log10(Pxx_smooth2), c='red', linewidth=4)\n",
    "axs.tick_params(axis='both', which='major', labelsize = 20)\n",
    "axs.set_xlim([0, 100])\n",
    "axs.set_ylim([-10, 30])\n",
    "\n",
    "\n",
    "fig.set_figheight(5)\n",
    "fig.set_figwidth(5)\n",
    "\n",
    "\n",
    "plt.show()"
   ]
  }
 ],
 "metadata": {
  "kernelspec": {
   "display_name": "Python 3 (ipykernel)",
   "language": "python",
   "name": "python3"
  },
  "language_info": {
   "codemirror_mode": {
    "name": "ipython",
    "version": 3
   },
   "file_extension": ".py",
   "mimetype": "text/x-python",
   "name": "python",
   "nbconvert_exporter": "python",
   "pygments_lexer": "ipython3",
   "version": "3.11.5"
  },
  "toc-autonumbering": true,
  "toc-showcode": false,
  "toc-showtags": true
 },
 "nbformat": 4,
 "nbformat_minor": 5
}
